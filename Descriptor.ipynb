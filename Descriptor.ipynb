{
  "nbformat": 4,
  "nbformat_minor": 0,
  "metadata": {
    "colab": {
      "name": "Descriptor.ipynb",
      "provenance": [],
      "collapsed_sections": [],
      "authorship_tag": "ABX9TyOeJsGWCjkUDGgcDhSyhnaA",
      "include_colab_link": true
    },
    "kernelspec": {
      "name": "python3",
      "display_name": "Python 3"
    }
  },
  "cells": [
    {
      "cell_type": "markdown",
      "metadata": {
        "id": "view-in-github",
        "colab_type": "text"
      },
      "source": [
        "<a href=\"https://colab.research.google.com/github/mcajarabilla/Colaboratory/blob/master/Descriptor.ipynb\" target=\"_parent\"><img src=\"https://colab.research.google.com/assets/colab-badge.svg\" alt=\"Open In Colab\"/></a>"
      ]
    },
    {
      "cell_type": "markdown",
      "metadata": {
        "id": "C8RuEUwFcq0V",
        "colab_type": "text"
      },
      "source": [
        "## Basado en el iguiente artículo:\n",
        "\n",
        "[*If You’re Not Sure How a Male Author Would Describe You, Use Our Handy Chart*](https://medium.com/electric-literature/if-youre-not-sure-how-a-male-author-would-describe-you-use-our-handy-chart-6a44afe0e586)"
      ]
    },
    {
      "cell_type": "code",
      "metadata": {
        "id": "ldjJTnvLcyh4",
        "colab_type": "code",
        "outputId": "44c32fd4-a0e9-43e0-e42a-09ca8c8b6adf",
        "colab": {
          "base_uri": "https://localhost:8080/",
          "height": 357
        }
      },
      "source": [
        "import random\n",
        "import time\n",
        "\n",
        "a = ['boobs', 'a bust', 'a butt', 'lips', 'an ass', 'breasts', 'hair', 'eyes', 'a voice', 'curves', 'a rump', 'legs', 'a rear end', 'mammaries', 'jugs', 'calves', 'a badonkadonk', 'gams', 'knockers', 'a complexion', 'a pout', 'hooters', 'a booty', 'cheeks', 'thighs', 'tresses']\n",
        "b = ['silken', 'creamy', 'shiny', 'ripe', 'juicy', 'middle-aged', 'rippling', 'wrinkled', 'lucious', 'frigid', 'voluptuous', 'expensive', 'plump', 'bountiful', 'tempestuous', 'withered', 'haughty', 'shrill', 'fat', 'dewy', 'soft', 'wiry', 'gleaming', 'withholding', 'bulbous', 'brittle']\n",
        "c = ['kitten', 'mountain', 'pillow', 'ice cream cone', 'tulip', 'lake', 'fortress', 'lemon', 'popsicle', 'librarian', 'python', 'pony', 'melon', 'bedsheet', 'muffin', 'bunny rabbit', 'fish', 'princess', 'ghost', 'waterfall', 'mango', 'harpy', 'ship', 'nun', 'berry', 'car']\n",
        "d = ['longed', 'lusted', 'wished', 'wanted', 'resolved', 'dared', 'detested', 'trembled', 'thirsted', 'expected', 'planned', 'deigned', 'proposed', 'shuddered', 'refused', 'hated', 'scorned', 'dreaded', 'did not care', 'ached', 'intended', 'hungered', 'craved', 'hankered', 'needed', 'pined']\n",
        "e = ['ravish', 'climb', 'invade', 'grope', 'marry', 'raw dog it with', 'caress', 'proposition', 'correct', 'emotionally manipulate', 'spar with', 'compliment', 'hire', 'booty call', 'mansplain to', 'insult', 'date', 'teabag', 'ignore', 'fondle', 'worship', 'examine', 'manhandle', 'touch', 'admire', 'demand things from']\n",
        "\n",
        "def pickfrom(list):\n",
        "  rnd = random.randint(0, (len(list)-1))\n",
        "  return list[rnd]\n",
        "\n",
        "for i in range(15):\n",
        "  i += 1\n",
        "  print(\"She had \" + pickfrom(a) + \" like \" + pickfrom(b) + \" \" + pickfrom(c) + \" and I \" + pickfrom(d) + \" to \" + pickfrom(e) + \" her.\")\n",
        "  print()"
      ],
      "execution_count": 0,
      "outputs": [
        {
          "output_type": "stream",
          "text": [
            "She had jugs like wiry car and I thirsted to invade her.\n",
            "\n",
            "She had lips like shrill berry and I shuddered to hire her.\n",
            "\n",
            "She had hair like dewy kitten and I hankered to invade her.\n",
            "\n",
            "She had a rear end like soft bunny rabbit and I planned to grope her.\n",
            "\n",
            "She had eyes like middle-aged muffin and I pined to insult her.\n",
            "\n",
            "She had knockers like ripe nun and I pined to booty call her.\n",
            "\n",
            "She had a butt like juicy kitten and I hankered to insult her.\n",
            "\n",
            "She had a bust like gleaming berry and I expected to proposition her.\n",
            "\n",
            "She had a badonkadonk like ripe bedsheet and I intended to insult her.\n",
            "\n",
            "She had lips like shrill popsicle and I pined to ignore her.\n",
            "\n"
          ],
          "name": "stdout"
        }
      ]
    },
    {
      "cell_type": "markdown",
      "metadata": {
        "id": "nr_LSXZtc1ff",
        "colab_type": "text"
      },
      "source": [
        ""
      ]
    }
  ]
}