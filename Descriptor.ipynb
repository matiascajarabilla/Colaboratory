{
  "nbformat": 4,
  "nbformat_minor": 0,
  "metadata": {
    "colab": {
      "name": "Descriptor.ipynb",
      "provenance": [],
      "collapsed_sections": [],
      "authorship_tag": "ABX9TyNyWYFAVlvIPdBAUCmGfrQx",
      "include_colab_link": true
    },
    "kernelspec": {
      "name": "python3",
      "display_name": "Python 3"
    }
  },
  "cells": [
    {
      "cell_type": "markdown",
      "metadata": {
        "id": "view-in-github",
        "colab_type": "text"
      },
      "source": [
        "<a href=\"https://colab.research.google.com/github/mcajarabilla/Colaboratory/blob/master/Descriptor.ipynb\" target=\"_parent\"><img src=\"https://colab.research.google.com/assets/colab-badge.svg\" alt=\"Open In Colab\"/></a>"
      ]
    },
    {
      "cell_type": "markdown",
      "metadata": {
        "id": "C8RuEUwFcq0V",
        "colab_type": "text"
      },
      "source": [
        "## Basado en el iguiente artículo:\n",
        "\n",
        "[*If You’re Not Sure How a Male Author Would Describe You, Use Our Handy Chart*](https://medium.com/electric-literature/if-youre-not-sure-how-a-male-author-would-describe-you-use-our-handy-chart-6a44afe0e586)"
      ]
    },
    {
      "cell_type": "code",
      "metadata": {
        "id": "ldjJTnvLcyh4",
        "colab_type": "code",
        "outputId": "e86f2a85-c627-4737-8f67-a28aa65a3063",
        "colab": {
          "base_uri": "https://localhost:8080/",
          "height": 561
        }
      },
      "source": [
        "import random\n",
        "import time\n",
        "\n",
        "a = ['boobs', 'a bust', 'a butt', 'lips', 'an ass', 'breasts', 'hair', 'eyes', 'a voice', 'curves', 'a rump', 'legs', 'a rear end', 'mammaries', 'jugs', 'calves', 'a badonkadonk', 'gams', 'knockers', 'a complexion', 'a pout', 'hooters', 'a booty', 'cheeks', 'thighs', 'tresses']\n",
        "b = ['silken', 'creamy', 'shiny', 'ripe', 'juicy', 'middle-aged', 'rippling', 'wrinkled', 'lucious', 'frigid', 'voluptuous', 'expensive', 'plump', 'bountiful', 'tempestuous', 'withered', 'haughty', 'shrill', 'fat', 'dewy', 'soft', 'wiry', 'gleaming', 'withholding', 'bulbous', 'brittle']\n",
        "c = ['kitten', 'mountain', 'pillow', 'ice cream cone', 'tulip', 'lake', 'fortress', 'lemon', 'popsicle', 'librarian', 'python', 'pony', 'melon', 'bedsheet', 'muffin', 'bunny rabbit', 'fish', 'princess', 'ghost', 'waterfall', 'mango', 'harpy', 'ship', 'nun', 'berry', 'car']\n",
        "d = ['longed', 'lusted', 'wished', 'wanted', 'resolved', 'dared', 'detested', 'trembled', 'thirsted', 'expected', 'planned', 'deigned', 'proposed', 'shuddered', 'refused', 'hated', 'scorned', 'dreaded', 'did not care', 'ached', 'intended', 'hungered', 'craved', 'hankered', 'needed', 'pined']\n",
        "e = ['ravish', 'climb', 'invade', 'grope', 'marry', 'raw dog it with', 'caress', 'proposition', 'correct', 'emotionally manipulate', 'spar with', 'compliment', 'hire', 'booty call', 'mansplain to', 'insult', 'date', 'teabag', 'ignore', 'fondle', 'worship', 'examine', 'manhandle', 'touch', 'admire', 'demand things from']\n",
        "\n",
        "def pickfrom(list):\n",
        "  rnd = random.randint(0, (len(list)-1))\n",
        "  return list[rnd]\n",
        "\n",
        "start = time.time()\n",
        "\n",
        "for i in range(15):\n",
        "  i += 1\n",
        "  print(\"She had \" + pickfrom(a) + \" like \" + pickfrom(b) + \" \" + pickfrom(c) + \" and I \" + pickfrom(d) + \" to \" + pickfrom(e) + \" her.\")\n",
        "  print()\n",
        "\n",
        "print('--')\n",
        "print('Ejecutado en', '{0:.3g}'.format(1000*(time.time()-start)), 'milisegundos')\n"
      ],
      "execution_count": 7,
      "outputs": [
        {
          "output_type": "stream",
          "text": [
            "She had lips like wiry mountain and I scorned to manhandle her.\n",
            "\n",
            "She had a bust like middle-aged bedsheet and I refused to insult her.\n",
            "\n",
            "She had a complexion like ripe pony and I hated to mansplain to her.\n",
            "\n",
            "She had legs like tempestuous pony and I needed to marry her.\n",
            "\n",
            "She had legs like withered lemon and I needed to ignore her.\n",
            "\n",
            "She had calves like bountiful princess and I trembled to proposition her.\n",
            "\n",
            "She had legs like withholding tulip and I expected to caress her.\n",
            "\n",
            "She had breasts like creamy python and I hungered to booty call her.\n",
            "\n",
            "She had a booty like tempestuous lake and I detested to worship her.\n",
            "\n",
            "She had eyes like fat kitten and I detested to manhandle her.\n",
            "\n",
            "She had tresses like shiny pony and I longed to insult her.\n",
            "\n",
            "She had legs like shiny ice cream cone and I expected to worship her.\n",
            "\n",
            "She had eyes like wiry ghost and I hated to admire her.\n",
            "\n",
            "She had a butt like brittle berry and I detested to insult her.\n",
            "\n",
            "She had boobs like lucious tulip and I hungered to mansplain to her.\n",
            "\n",
            "--\n",
            "Ejecutado en 3.39 milisegundos\n"
          ],
          "name": "stdout"
        }
      ]
    },
    {
      "cell_type": "markdown",
      "metadata": {
        "id": "nr_LSXZtc1ff",
        "colab_type": "text"
      },
      "source": [
        ""
      ]
    }
  ]
}